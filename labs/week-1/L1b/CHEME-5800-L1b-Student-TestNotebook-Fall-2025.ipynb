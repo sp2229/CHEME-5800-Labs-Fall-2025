{
 "cells": [
  {
   "cell_type": "markdown",
   "id": "02399095-fca8-4b45-960e-60119ee99b5c",
   "metadata": {},
   "source": [
    "# L1b: Let's test a notebook!\n",
    "In this test, we'll load [the `Include.jl` file](src/Include.jl) using [the `include(...)` method](https://docs.julialang.org/en/v1/base/base/#include), then we'll run some simple plotting commands using [methods exported by the `UnicodePlots.jl` package](https://github.com/JuliaPlots/UnicodePlots.jl)\n",
    "\n",
    "> __What does `include(...)` do?__ The [include command](https://docs.julialang.org/en/v1/base/base/#include) evaluates the contents of the input source file, [`Include.jl`](src/Include.jl), in the notebook's global scope. The `Include.jl` file sets paths, loads required external packages, etc. For additional information on functions and types used in this material, see the [Julia programming language documentation](https://docs.julialang.org/en/v1/). \n",
    "\n",
    "Let's go!\n",
    "___"
   ]
  },
  {
   "cell_type": "markdown",
   "id": "151e97f3-bf3f-401d-83ac-ad76d32098d3",
   "metadata": {},
   "source": [
    "## Setup, Data, and Prerequisites\n",
    "\n",
    "In our case, our `Include.jl` file will set paths so our notebook knows were to find things, and then will load external packages in the global score with [the `using` command](https://docs.julialang.org/en/v1/base/base/#using). This makes the content of the package visible to us. "
   ]
  },
  {
   "cell_type": "code",
   "execution_count": 1,
   "id": "0daa5004-a05c-498d-879a-58c5fb290b5b",
   "metadata": {},
   "outputs": [
    {
     "name": "stderr",
     "output_type": "stream",
     "text": [
      "\u001b[32m\u001b[1m  Activating\u001b[22m\u001b[39m project at `~/Documents/GitHub/CHEME-5800-Labs-Fall-2025/labs/week-1/L1b`\n",
      "\u001b[32m\u001b[1m    Updating\u001b[22m\u001b[39m `~/Documents/GitHub/CHEME-5800-Labs-Fall-2025/labs/week-1/L1b/Project.toml`\n",
      "  \u001b[90m[10745b16] \u001b[39m\u001b[92m+ Statistics v1.11.1\u001b[39m\n",
      "  \u001b[90m[b8865327] \u001b[39m\u001b[92m+ UnicodePlots v3.8.1\u001b[39m\n",
      "\u001b[32m\u001b[1m    Updating\u001b[22m\u001b[39m `~/Documents/GitHub/CHEME-5800-Labs-Fall-2025/labs/week-1/L1b/Manifest.toml`\n",
      "  \u001b[90m[66dad0bd] \u001b[39m\u001b[92m+ AliasTables v1.1.3\u001b[39m\n",
      "  \u001b[90m[35d6a980] \u001b[39m\u001b[92m+ ColorSchemes v3.30.0\u001b[39m\n",
      "  \u001b[90m[3da002f7] \u001b[39m\u001b[92m+ ColorTypes v0.12.1\u001b[39m\n",
      "  \u001b[90m[c3611d14] \u001b[39m\u001b[92m+ ColorVectorSpace v0.11.0\u001b[39m\n",
      "  \u001b[90m[5ae59095] \u001b[39m\u001b[92m+ Colors v0.13.1\u001b[39m\n",
      "  \u001b[90m[d38c429a] \u001b[39m\u001b[92m+ Contour v0.6.3\u001b[39m\n",
      "  \u001b[90m[a8cc5b0e] \u001b[39m\u001b[92m+ Crayons v4.1.1\u001b[39m\n",
      "  \u001b[90m[9a962f9c] \u001b[39m\u001b[92m+ DataAPI v1.16.0\u001b[39m\n",
      "  \u001b[90m[864edb3b] \u001b[39m\u001b[92m+ DataStructures v0.19.1\u001b[39m\n",
      "  \u001b[90m[ffbed154] \u001b[39m\u001b[92m+ DocStringExtensions v0.9.5\u001b[39m\n",
      "  \u001b[90m[53c48c17] \u001b[39m\u001b[92m+ FixedPointNumbers v0.8.5\u001b[39m\n",
      "  \u001b[90m[92d709cd] \u001b[39m\u001b[92m+ IrrationalConstants v0.2.4\u001b[39m\n",
      "  \u001b[90m[2ab3a3ac] \u001b[39m\u001b[92m+ LogExpFunctions v0.3.29\u001b[39m\n",
      "  \u001b[90m[299715c1] \u001b[39m\u001b[92m+ MarchingCubes v0.1.11\u001b[39m\n",
      "  \u001b[90m[e1d29d7a] \u001b[39m\u001b[92m+ Missings v1.2.0\u001b[39m\n",
      "  \u001b[90m[77ba4419] \u001b[39m\u001b[92m+ NaNMath v1.1.3\u001b[39m\n",
      "  \u001b[90m[bac558e1] \u001b[39m\u001b[92m+ OrderedCollections v1.8.1\u001b[39m\n",
      "\u001b[33m⌅\u001b[39m \u001b[90m[aea7be01] \u001b[39m\u001b[92m+ PrecompileTools v1.2.1\u001b[39m\n",
      "  \u001b[90m[21216c6a] \u001b[39m\u001b[92m+ Preferences v1.5.0\u001b[39m\n",
      "  \u001b[90m[43287f4e] \u001b[39m\u001b[92m+ PtrArrays v1.3.0\u001b[39m\n",
      "  \u001b[90m[189a3867] \u001b[39m\u001b[92m+ Reexport v1.2.2\u001b[39m\n",
      "  \u001b[90m[ae029012] \u001b[39m\u001b[92m+ Requires v1.3.1\u001b[39m\n",
      "  \u001b[90m[a2af1166] \u001b[39m\u001b[92m+ SortingAlgorithms v1.2.2\u001b[39m\n",
      "  \u001b[90m[90137ffa] \u001b[39m\u001b[92m+ StaticArrays v1.9.14\u001b[39m\n",
      "  \u001b[90m[1e83bf80] \u001b[39m\u001b[92m+ StaticArraysCore v1.4.3\u001b[39m\n",
      "  \u001b[90m[10745b16] \u001b[39m\u001b[92m+ Statistics v1.11.1\u001b[39m\n",
      "  \u001b[90m[82ae8749] \u001b[39m\u001b[92m+ StatsAPI v1.7.1\u001b[39m\n",
      "  \u001b[90m[2913bbd2] \u001b[39m\u001b[92m+ StatsBase v0.34.6\u001b[39m\n",
      "  \u001b[90m[62fd8b95] \u001b[39m\u001b[92m+ TensorCore v0.1.1\u001b[39m\n",
      "  \u001b[90m[b8865327] \u001b[39m\u001b[92m+ UnicodePlots v3.8.1\u001b[39m\n",
      "  \u001b[90m[56f22d72] \u001b[39m\u001b[92m+ Artifacts v1.11.0\u001b[39m\n",
      "  \u001b[90m[ade2ca70] \u001b[39m\u001b[92m+ Dates v1.11.0\u001b[39m\n",
      "  \u001b[90m[8f399da3] \u001b[39m\u001b[92m+ Libdl v1.11.0\u001b[39m\n",
      "  \u001b[90m[37e2e46d] \u001b[39m\u001b[92m+ LinearAlgebra v1.11.0\u001b[39m\n",
      "  \u001b[90m[de0858da] \u001b[39m\u001b[92m+ Printf v1.11.0\u001b[39m\n",
      "  \u001b[90m[9a3f8284] \u001b[39m\u001b[92m+ Random v1.11.0\u001b[39m\n",
      "  \u001b[90m[ea8e919c] \u001b[39m\u001b[92m+ SHA v0.7.0\u001b[39m\n",
      "  \u001b[90m[9e88b42a] \u001b[39m\u001b[92m+ Serialization v1.11.0\u001b[39m\n",
      "  \u001b[90m[2f01184e] \u001b[39m\u001b[92m+ SparseArrays v1.11.0\u001b[39m\n",
      "  \u001b[90m[fa267f1f] \u001b[39m\u001b[92m+ TOML v1.0.3\u001b[39m\n",
      "  \u001b[90m[cf7118a7] \u001b[39m\u001b[92m+ UUIDs v1.11.0\u001b[39m\n",
      "  \u001b[90m[4ec0a83e] \u001b[39m\u001b[92m+ Unicode v1.11.0\u001b[39m\n",
      "  \u001b[90m[e66e0078] \u001b[39m\u001b[92m+ CompilerSupportLibraries_jll v1.1.1+0\u001b[39m\n",
      "  \u001b[90m[4536629a] \u001b[39m\u001b[92m+ OpenBLAS_jll v0.3.27+1\u001b[39m\n",
      "  \u001b[90m[05823500] \u001b[39m\u001b[92m+ OpenLibm_jll v0.8.5+0\u001b[39m\n",
      "  \u001b[90m[bea87d4a] \u001b[39m\u001b[92m+ SuiteSparse_jll v7.7.0+0\u001b[39m\n",
      "  \u001b[90m[8e850b90] \u001b[39m\u001b[92m+ libblastrampoline_jll v5.11.0+0\u001b[39m\n",
      "\u001b[36m\u001b[1m        Info\u001b[22m\u001b[39m Packages marked with \u001b[33m⌅\u001b[39m have new versions available but compatibility constraints restrict them from upgrading. To see why use `status --outdated -m`\n",
      "\u001b[32m\u001b[1m    Updating\u001b[22m\u001b[39m registry at `~/.julia/registries/General.toml`\n",
      "\u001b[32m\u001b[1m  No Changes\u001b[22m\u001b[39m to `~/Documents/GitHub/CHEME-5800-Labs-Fall-2025/labs/week-1/L1b/Project.toml`\n",
      "\u001b[32m\u001b[1m  No Changes\u001b[22m\u001b[39m to `~/Documents/GitHub/CHEME-5800-Labs-Fall-2025/labs/week-1/L1b/Manifest.toml`\n",
      "\u001b[36m\u001b[1m        Info\u001b[22m\u001b[39m We haven't cleaned this depot up for a bit, running Pkg.gc()...\n",
      "\u001b[32m\u001b[1m      Active\u001b[22m\u001b[39m manifest files: 2 found\n",
      "\u001b[32m\u001b[1m      Active\u001b[22m\u001b[39m artifact files: 2 found\n",
      "\u001b[32m\u001b[1m      Active\u001b[22m\u001b[39m scratchspaces: 2 found\n",
      "\u001b[32m\u001b[1m     Deleted\u001b[22m\u001b[39m no artifacts, repos, packages or scratchspaces\n"
     ]
    }
   ],
   "source": [
    "# TODO: uncomment the line below, and run the cell to setup the computational Environment\n",
    "include(joinpath(@__DIR__, \"Include.jl\")); # what is going on here?"
   ]
  },
  {
   "cell_type": "markdown",
   "id": "86233f56-43e0-4482-9f8f-9c7bbf69f51f",
   "metadata": {},
   "source": [
    "Now that we have our environment setup, we can do some stuff."
   ]
  },
  {
   "cell_type": "markdown",
   "id": "b4c2ba40-15f8-4def-a9bd-7a82c4551ba1",
   "metadata": {},
   "source": [
    "## Task 1: Let's build and visualize a Normal Distribution\n",
    "In this task, let's test our installation by smapling a model of [a Normal probability distribution](https://en.wikipedia.org/wiki/Normal_distribution), and then visualizing the samples. First, let's draw sample from the distribution and save them in the `samples::Array{Float64,1}` array. \n",
    "\n",
    "> __What is the `let` block?__ The [`let` block](https://docs.julialang.org/en/v1/base/base/#let) creates a new hard scope and optionally introduces new local bindings. Variables introduced inside a `let` block are local to that block and don't affect variables of the same name in the outer scope. In our case, the `let` block allows us to create local variables (`number_of_samples` and the local `samples`) that are only visible within the block, while the final value of `samples` is returned and assigned to the global variable `samples`. This is a common Julia pattern for organizing code and avoiding namespace pollution.\n",
    "\n",
    "We use [the built-in `randn(...)` method](https://docs.julialang.org/en/v1.11/stdlib/Random/#Base.randn) to generate samples from a standard normal distribution (mean 0, variance 1)."
   ]
  },
  {
   "cell_type": "code",
   "execution_count": 2,
   "id": "18d55b6f-e54f-4cb5-a4aa-eb70a91b6cbf",
   "metadata": {},
   "outputs": [],
   "source": [
    "samples = let\n",
    "\n",
    "    # initialize -\n",
    "    number_of_samples = 10000; # set the number of samples we want to generate\n",
    "    samples = nothing;\n",
    "\n",
    "    # TODO: uncomment the line below to generate samples from a standard normal distribution\n",
    "    samples = randn(number_of_samples);\n",
    "\n",
    "    samples; # return\n",
    "end;"
   ]
  },
  {
   "cell_type": "code",
   "execution_count": 3,
   "id": "8136b5f8-7ce9-4fdf-a346-363cf12758d6",
   "metadata": {},
   "outputs": [
    {
     "data": {
      "text/plain": [
       "10000-element Vector{Float64}:\n",
       " -0.6003264570955755\n",
       "  2.391106821429418\n",
       " -0.18476682107232434\n",
       "  0.5210318976772796\n",
       "  0.9236656066248878\n",
       "  0.2523877613938827\n",
       " -0.38563047042075627\n",
       "  1.6923420061299126\n",
       "  0.9210732155691945\n",
       " -0.2598249053550315\n",
       " -0.28048356526637513\n",
       "  0.7108218648543784\n",
       " -0.17883123144975044\n",
       "  ⋮\n",
       "  2.6950730469960966\n",
       " -0.5139390418498453\n",
       "  1.5286255449742632\n",
       "  0.1941816661105775\n",
       "  1.456521545759156\n",
       "  0.42820485571144346\n",
       "  1.411285952821344\n",
       " -0.3327825675324092\n",
       "  0.7896078953032823\n",
       " -0.2052313482495919\n",
       " -1.4647738402040194\n",
       " -1.1259357718555996"
      ]
     },
     "execution_count": 3,
     "metadata": {},
     "output_type": "execute_result"
    }
   ],
   "source": [
    "samples"
   ]
  },
  {
   "cell_type": "markdown",
   "id": "f0b91fd5-749f-45ed-9d91-bd33efca1652",
   "metadata": {},
   "source": [
    "Now, let's plot the `sample::Array{Float64,1}` array using [the `histogram(...)` method exported by the `UnicodePlots.jl` package](https://juliaplots.org/UnicodePlots.jl/dev/api/#UnicodePlots.histogram-Tuple%7BAbstractArray%7D). "
   ]
  },
  {
   "cell_type": "code",
   "execution_count": 4,
   "id": "96fd5cc1-eabe-442e-bc24-46545f9631c1",
   "metadata": {},
   "outputs": [
    {
     "data": {
      "text/plain": [
       "                \u001b[38;5;8m┌                                        ┐\u001b[0m \n",
       "   [-4.0, -3.5) \u001b[38;5;8m┤\u001b[0m\u001b[38;5;2m\u001b[0m\u001b[38;5;2m▏\u001b[0m 4                                     \u001b[38;5;8m \u001b[0m \u001b[38;5;8m\u001b[0m\n",
       "   [-3.5, -3.0) \u001b[38;5;8m┤\u001b[0m\u001b[38;5;2m\u001b[0m\u001b[38;5;2m▎\u001b[0m 10                                    \u001b[38;5;8m \u001b[0m \u001b[38;5;8m\u001b[0m\n",
       "   [-3.0, -2.5) \u001b[38;5;8m┤\u001b[0m\u001b[38;5;2m\u001b[0m\u001b[38;5;2m▊\u001b[0m 49                                    \u001b[38;5;8m \u001b[0m \u001b[38;5;8m\u001b[0m\n",
       "   [-2.5, -2.0) \u001b[38;5;8m┤\u001b[0m\u001b[38;5;2m██\u001b[0m\u001b[38;5;2m▋\u001b[0m 154                                 \u001b[38;5;8m \u001b[0m \u001b[38;5;8m\u001b[0m\n",
       "   [-2.0, -1.5) \u001b[38;5;8m┤\u001b[0m\u001b[38;5;2m███████\u001b[0m\u001b[38;5;2m▋\u001b[0m 442                            \u001b[38;5;8m \u001b[0m \u001b[38;5;8m\u001b[0m\n",
       "   [-1.5, -1.0) \u001b[38;5;8m┤\u001b[0m\u001b[38;5;2m███████████████\u001b[0m\u001b[38;5;2m▍\u001b[0m 877                    \u001b[38;5;8m \u001b[0m \u001b[38;5;8m\u001b[0m\n",
       "   [-1.0, -0.5) \u001b[38;5;8m┤\u001b[0m\u001b[38;5;2m██████████████████████████\u001b[0m\u001b[38;5;2m▋\u001b[0m 1 536       \u001b[38;5;8m \u001b[0m \u001b[38;5;8m\u001b[0m\n",
       "   [-0.5,  0.0) \u001b[38;5;8m┤\u001b[0m\u001b[38;5;2m████████████████████████████████\u001b[0m\u001b[38;5;2m▉\u001b[0m 1 895 \u001b[38;5;8m \u001b[0m \u001b[38;5;8m\u001b[0m\n",
       "   [ 0.0,  0.5) \u001b[38;5;8m┤\u001b[0m\u001b[38;5;2m█████████████████████████████████\u001b[0m\u001b[38;5;2m \u001b[0m 1 896\u001b[38;5;8m \u001b[0m \u001b[38;5;8m\u001b[0m\n",
       "   [ 0.5,  1.0) \u001b[38;5;8m┤\u001b[0m\u001b[38;5;2m██████████████████████████\u001b[0m\u001b[38;5;2m▋\u001b[0m 1 529       \u001b[38;5;8m \u001b[0m \u001b[38;5;8m\u001b[0m\n",
       "   [ 1.0,  1.5) \u001b[38;5;8m┤\u001b[0m\u001b[38;5;2m████████████████\u001b[0m\u001b[38;5;2m▍\u001b[0m 937                   \u001b[38;5;8m \u001b[0m \u001b[38;5;8m\u001b[0m\n",
       "   [ 1.5,  2.0) \u001b[38;5;8m┤\u001b[0m\u001b[38;5;2m███████\u001b[0m\u001b[38;5;2m▋\u001b[0m 442                            \u001b[38;5;8m \u001b[0m \u001b[38;5;8m\u001b[0m\n",
       "   [ 2.0,  2.5) \u001b[38;5;8m┤\u001b[0m\u001b[38;5;2m██\u001b[0m\u001b[38;5;2m▊\u001b[0m 162                                 \u001b[38;5;8m \u001b[0m \u001b[38;5;8m\u001b[0m\n",
       "   [ 2.5,  3.0) \u001b[38;5;8m┤\u001b[0m\u001b[38;5;2m\u001b[0m\u001b[38;5;2m▊\u001b[0m 50                                    \u001b[38;5;8m \u001b[0m \u001b[38;5;8m\u001b[0m\n",
       "   [ 3.0,  3.5) \u001b[38;5;8m┤\u001b[0m\u001b[38;5;2m\u001b[0m\u001b[38;5;2m▍\u001b[0m 15                                    \u001b[38;5;8m \u001b[0m \u001b[38;5;8m\u001b[0m\n",
       "   [ 3.5,  4.0) \u001b[38;5;8m┤\u001b[0m\u001b[38;5;2m\u001b[0m\u001b[38;5;2m▏\u001b[0m 2                                     \u001b[38;5;8m \u001b[0m \u001b[38;5;8m\u001b[0m\n",
       "                \u001b[38;5;8m└                                        ┘\u001b[0m \n",
       "                                 Frequency                 "
      ]
     },
     "execution_count": 4,
     "metadata": {},
     "output_type": "execute_result"
    }
   ],
   "source": [
    "let\n",
    "\n",
    "    # initialize -\n",
    "    data = samples; # random array\n",
    "    number_of_bins = 20; # how many bins?\n",
    "    vertical = false; # vertical or horizontal?\n",
    "    closed = :left; # which side of the interval is closed?\n",
    "\n",
    "    # TODO: uncomment the line below to make the histogram\n",
    "    histogram(data, nbins=number_of_bins, vertical = vertical, closed = closed); \n",
    "end"
   ]
  },
  {
   "cell_type": "code",
   "execution_count": 5,
   "id": "ff8f17e7",
   "metadata": {},
   "outputs": [],
   "source": [
    "do_you_see_the_histogram = true; # TODO: update this flag if you see the histogram for the normal distribution"
   ]
  },
  {
   "cell_type": "markdown",
   "id": "5c7a0d4a",
   "metadata": {},
   "source": [
    "## Task 2: Can we see code that we wrote?\n",
    "In this task, we check that methdos that we wrote (that were included when we called the `Include.jl` file) are now visible. In [the `HelloWorld.jl` file](src/HelloWorld.jl), we defined a simple method called `printgreeting()` that prints \"Hello, World!\" to the screen. Let's call it and see if it works.\n",
    "\n",
    "We'll save the response in the `message_that_we_get::String` variable:"
   ]
  },
  {
   "cell_type": "code",
   "execution_count": 6,
   "id": "0024a3d5",
   "metadata": {},
   "outputs": [
    {
     "data": {
      "text/plain": [
       "\"Hello World!\""
      ]
     },
     "execution_count": 6,
     "metadata": {},
     "output_type": "execute_result"
    }
   ],
   "source": [
    "message_that_we_get = nothing; # initialize to nothing\n",
    "message_that_we_get = printgreeting() # TODO: call a method we defined, should return \"Hello, World!\""
   ]
  },
  {
   "cell_type": "markdown",
   "id": "0d14915b",
   "metadata": {},
   "source": [
    "## Tests\n",
    "In the code block below, we check some values in your notebook and give you feedback on which items are correct or different. `Unhide` the code block below (if you are curious) about how we implemented the tests and what we are testing."
   ]
  },
  {
   "cell_type": "code",
   "execution_count": 7,
   "id": "ca46bd9a",
   "metadata": {},
   "outputs": [
    {
     "name": "stdout",
     "output_type": "stream",
     "text": [
      "\u001b[0m\u001b[1mTest Summary:                             | \u001b[22m\u001b[32m\u001b[1mPass  \u001b[22m\u001b[39m\u001b[36m\u001b[1mTotal  \u001b[22m\u001b[39m\u001b[0m\u001b[1mTime\u001b[22m\n",
      "CHEME 4/5800 L1b Test Suite               | \u001b[32m  22  \u001b[39m\u001b[36m   22  \u001b[39m\u001b[0m0.3s\n",
      "  Environment Setup Tests                 | \u001b[32m   3  \u001b[39m\u001b[36m    3  \u001b[39m\u001b[0m0.2s\n",
      "  Sample Generation Tests                 | \u001b[32m   6  \u001b[39m\u001b[36m    6  \u001b[39m\u001b[0m0.1s\n",
      "  Histogram Flag Tests                    | \u001b[32m   2  \u001b[39m\u001b[36m    2  \u001b[39m\u001b[0m0.0s\n",
      "  HelloWorld Function Tests               | \u001b[32m   5  \u001b[39m\u001b[36m    5  \u001b[39m\u001b[0m0.0s\n",
      "  Data Type and Structure Tests           | \u001b[32m   4  \u001b[39m\u001b[36m    4  \u001b[39m\u001b[0m0.1s\n",
      "  Package and Function Availability Tests | \u001b[32m   2  \u001b[39m\u001b[36m    2  \u001b[39m\u001b[0m0.0s\n"
     ]
    }
   ],
   "source": [
    "let\n",
    "\n",
    "    @testset verbose = true \"CHEME 4/5800 L1b Test Suite\" begin\n",
    "        \n",
    "        # Test 1: Environment Setup\n",
    "        @testset \"Environment Setup Tests\" begin\n",
    "            @test @isdefined _DID_INCLUDE_GET_CALLED\n",
    "            @test _DID_INCLUDE_GET_CALLED == true\n",
    "            @test @isdefined printgreeting\n",
    "        end\n",
    "        \n",
    "        # Test 2: Sample Generation Tests\n",
    "        @testset \"Sample Generation Tests\" begin\n",
    "            @test @isdefined samples\n",
    "            @test isa(samples, Array{Float64,1})\n",
    "            @test length(samples) == 10000\n",
    "            @test !isempty(samples)\n",
    "            \n",
    "            # Statistical properties of normal distribution\n",
    "            sample_mean = Statistics.mean(samples)\n",
    "            sample_std = Statistics.std(samples)\n",
    "            @test abs(sample_mean) < 0.1\n",
    "            @test abs(sample_std - 1.0) < 0.1\n",
    "        end\n",
    "        \n",
    "        # Test 3: Histogram Flag Tests\n",
    "        @testset \"Histogram Flag Tests\" begin\n",
    "            @test @isdefined do_you_see_the_histogram\n",
    "            @test isa(do_you_see_the_histogram, Bool)\n",
    "        end\n",
    "        \n",
    "        # Test 4: HelloWorld Function Tests\n",
    "        @testset \"HelloWorld Function Tests\" begin\n",
    "            @test @isdefined message_that_we_get\n",
    "            @test isa(message_that_we_get, String)\n",
    "            @test message_that_we_get == \"Hello World!\"\n",
    "            \n",
    "            # Test the function directly\n",
    "            greeting = printgreeting()\n",
    "            @test greeting == \"Hello World!\"\n",
    "            @test isa(greeting, String)\n",
    "        end\n",
    "        \n",
    "        # Test 5: Data Type and Structure Tests\n",
    "        @testset \"Data Type and Structure Tests\" begin\n",
    "            # Test that all variables have expected types\n",
    "            @test isa(samples, Vector)\n",
    "            @test eltype(samples) == Float64\n",
    "            \n",
    "            # Test that samples are finite (no NaN or Inf values)\n",
    "            @test all(isfinite.(samples))\n",
    "            \n",
    "            # Test range - normal distribution should have most values within ±4 standard deviations\n",
    "            extreme_values = count(abs.(samples) .> 4.0)\n",
    "            @test extreme_values < 100\n",
    "        end\n",
    "        \n",
    "        # Test 6: Package and Function Availability Tests\n",
    "        @testset \"Package and Function Availability Tests\" begin\n",
    "            @test @isdefined histogram\n",
    "            @test @isdefined randn\n",
    "        end\n",
    "    end\n",
    "end;"
   ]
  }
 ],
 "metadata": {
  "kernelspec": {
   "display_name": "Julia 1.11.6",
   "language": "julia",
   "name": "julia-1.11"
  },
  "language_info": {
   "file_extension": ".jl",
   "mimetype": "application/julia",
   "name": "julia",
   "version": "1.11.6"
  }
 },
 "nbformat": 4,
 "nbformat_minor": 5
}
